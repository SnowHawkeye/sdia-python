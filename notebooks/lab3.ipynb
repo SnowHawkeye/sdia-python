{
 "cells": [
  {
   "cell_type": "markdown",
   "source": [
    "# Practical session 3 - Practice with numpy\r\n",
    "\r\n",
    "Course: [SDIA-Python](https://github.com/guilgautier/sdia-python)\r\n",
    "\r\n",
    "Date: 10/06/2021\r\n",
    "\r\n",
    "Instructor: [Guillaume Gautier](https://guilgautier.github.io/)\r\n",
    "\r\n",
    "Students (pair):\r\n",
    "- [Hadrien Salem]([link](https://github.com/SnowHawkeye))\r\n",
    "- [Emilie Salem]([link](https://github.com/EmilieSalem))"
   ],
   "metadata": {}
  },
  {
   "cell_type": "code",
   "execution_count": null,
   "source": [
    "%load_ext autoreload\r\n",
    "%autoreload 2\r\n",
    "\r\n",
    "import numpy as np\r\n",
    "from lab2.utils import get_random_number_generator"
   ],
   "outputs": [],
   "metadata": {}
  },
  {
   "cell_type": "code",
   "execution_count": null,
   "source": [
    "my_array = np.array([0])\r\n",
    "print(type(my_array))\r\n",
    "dir(np.ndarray)"
   ],
   "outputs": [],
   "metadata": {}
  },
  {
   "cell_type": "markdown",
   "source": [
    "Propose at leat 2 ways to create an integer vector of size 100 made of 1s"
   ],
   "metadata": {}
  },
  {
   "cell_type": "code",
   "execution_count": null,
   "source": [
    "vect1 = np.ones(100)\r\n",
    "vect2 = np.array([1 for i in range(100)])"
   ],
   "outputs": [],
   "metadata": {}
  },
  {
   "cell_type": "markdown",
   "source": [
    "Create a vector with values ranging from 10 to 49"
   ],
   "metadata": {}
  },
  {
   "cell_type": "code",
   "execution_count": null,
   "source": [
    "np.array([i for i in range(10,50)])"
   ],
   "outputs": [],
   "metadata": {}
  },
  {
   "cell_type": "markdown",
   "source": [
    "Propose a way to construct the vector $(0.0, 0.2, 0.4, 0.6, 0.8)$"
   ],
   "metadata": {}
  },
  {
   "cell_type": "code",
   "execution_count": null,
   "source": [
    "float_vect = np.array([0.1*i for i in range(0,10,2)])"
   ],
   "outputs": [],
   "metadata": {}
  },
  {
   "cell_type": "markdown",
   "source": [
    "Convert a float array into an integer array in place"
   ],
   "metadata": {}
  },
  {
   "cell_type": "code",
   "execution_count": null,
   "source": [
    "int_vect = float_vect.astype(int)\r\n",
    "int_vect"
   ],
   "outputs": [],
   "metadata": {}
  },
  {
   "cell_type": "markdown",
   "source": [
    "Given a boolean array\r\n",
    "\r\n",
    "- return the indices where \r\n",
    "- negate the array inplace? "
   ],
   "metadata": {}
  },
  {
   "cell_type": "code",
   "execution_count": null,
   "source": [
    "bool_array = np.array([True, False, True, True])\r\n",
    "\r\n",
    "index_true = np.where(bool_array == True)\r\n",
    "index_false = np.where(bool_array == False)\r\n",
    "\r\n",
    "bool_array_negate = np.invert(bool_array)"
   ],
   "outputs": [],
   "metadata": {}
  },
  {
   "cell_type": "markdown",
   "source": [
    "Given 2 vectors $u, v$, propose at least\r\n",
    "\r\n",
    "- 2 ways to compute the inner product $v^{\\top} u$ (here they must have the same size)\r\n",
    "- 2 ways to compute the outer product matrix $u v^{\\top}$\r\n",
    "- 2 ways to compute the outer sum matrix \"$M = u + v^{\\top}$\", where $M_{ij} = u_i + v_j$"
   ],
   "metadata": {}
  },
  {
   "cell_type": "code",
   "execution_count": null,
   "source": [
    "u = np.array([0,1])\r\n",
    "v = np.array([2,3])\r\n",
    "\r\n",
    "inner_prod1 = np.dot(u,v)\r\n",
    "inner_prod2 = np.inner(u,v)\r\n",
    "\r\n",
    "u = np.array([0,1, 2])\r\n",
    "v = np.array([2,3])\r\n",
    "\r\n",
    "outer_prod1 = np.tensordot(u, v, axes=0)\r\n",
    "outer_prod2 = np.outer(u,v)\r\n",
    "\r\n",
    "sum_matrix1 = np.add.outer(u,v)\r\n",
    "sum_matrix2 = \"?\" # TODO "
   ],
   "outputs": [],
   "metadata": {}
  },
  {
   "cell_type": "markdown",
   "source": [
    "Given the following matrix\r\n",
    "\r\n",
    "$$\r\n",
    "M = \r\n",
    "\\begin{pmatrix}\r\n",
    "    0 & 1 & 2 \\\\\r\n",
    "    3 & 4 & 5 \\\\\r\n",
    "    6 & 7 & 8 \\\\\r\n",
    "\\end{pmatrix}\r\n",
    "$$\r\n",
    "\r\n",
    "- Create $M$ using as a list of lists and access the element in the middle\r\n",
    "- Propose at least 2 ways to create $M$ using numpy and access the element in the middle\r\n",
    "- Swap its first and second row\r\n",
    "- Propose at least 3 ways to extract the submatrix $\\begin{pmatrix}4 & 5 \\\\7 & 8 \\\\\\end{pmatrix}$\r\n",
    "- Propose at least 2 ways to extract the diagonal of $M$\r\n",
    "- Propose at least 2 ways to compute $M^3$\r\n",
    "- Compute $v^{\\top} M$, resp. $M N$ for a vector, resp. a matrix of your choice. \r\n",
    "- Propose 2 ways to \"vectorize\" the matrix, i.e., transform it into\r\n",
    "  - $(0, 1, 2, 3, 4, 5, 6, 7, 8)$\r\n",
    "  - $(0, 3, 6, 1, 4, 7, 2, 5, 8)$\r\n",
    "- Consider $v = (1, 2 , 3)$, compute the\r\n",
    "  - row-wise multiplication of $M$ by $v$ ($M_{i\\cdot}$ is multiplied by $v_i$)\r\n",
    "  - column-wise multiplication of $M$ by $v$ ($M_{\\cdot j}$ is multiplied by $v_i$)"
   ],
   "metadata": {}
  },
  {
   "cell_type": "code",
   "execution_count": null,
   "source": [
    "# M as a list\r\n",
    "M_list = [\r\n",
    "    [0, 1, 2], \r\n",
    "    [3, 4, 5], \r\n",
    "    [6, 7, 8],\r\n",
    "    ]\r\n",
    "\r\n",
    "middle_element_list = M_list[1][1]\r\n",
    "\r\n",
    "# M as an array\r\n",
    "M_numpy1 = np.array(M_list)\r\n",
    "M_numpy2 = np.array([i for i in range(9)]).reshape((3,3))\r\n",
    "M_numpy3 = np.array(np.arange(9)).reshape((3,3))\r\n",
    "\r\n",
    "middle_element_numpy = M_numpy3[1,1]\r\n",
    "\r\n",
    "# Swapping rows\r\n",
    "M_swap = np.copy(M_numpy1)\r\n",
    "M_swap[[0,1]] = M_swap[[1,0]]\r\n",
    "M_swap"
   ],
   "outputs": [],
   "metadata": {}
  },
  {
   "cell_type": "code",
   "execution_count": null,
   "source": [
    "M = np.copy(M_numpy3)\r\n",
    "\r\n",
    "# Extracting submatrixes\r\n",
    "submatrix1 = M[1:,1:]\r\n",
    "submatrix2 = M[[1,2]].T[[1,2]].T\r\n",
    "submatrix3 = M[[1,2]][:,1:]\r\n",
    "\r\n",
    "# Extracting diagonal\r\n",
    "diagonal1 = np.diag(M)\r\n",
    "diagonal2 = np.array([M[i][i] for i in range(len(M))])"
   ],
   "outputs": [],
   "metadata": {}
  },
  {
   "cell_type": "code",
   "execution_count": null,
   "source": [
    "# Compute M cube\r\n",
    "M_cube = M.dot(M).dot(M)\r\n",
    "M_cube2 = np.linalg.matrix_power(M, 3)\r\n",
    "\r\n",
    "# Products\r\n",
    "v = np.array([0,1,0])\r\n",
    "N = np.array(np.arange(0,6)).reshape(3,2)\r\n",
    "\r\n",
    "vect_prod = v.dot(M)\r\n",
    "matrix_prod = M.dot(N)"
   ],
   "outputs": [],
   "metadata": {}
  },
  {
   "cell_type": "code",
   "execution_count": null,
   "source": [
    "# Vectorize M\r\n",
    "M_vectorized1_rows = M.reshape(1,9)[0]\r\n",
    "M_vectorized1_columns = M.T.reshape(1,9)[0]\r\n",
    "\r\n",
    "M_vectorized2_rows = M.flatten()\r\n",
    "M_vectorized2_columns = M.flatten(order = 'F')\r\n",
    "\r\n",
    "# Row-wise and column-wise multiplication\r\n",
    "v = np.array([1,0,2])\r\n",
    "row_wise_prod = np.multiply(M.T,v).T\r\n",
    "column_wise_prod = np.multiply(M,v)\r\n",
    "\r\n",
    "row_wise_prod, column_wise_prod"
   ],
   "outputs": [],
   "metadata": {}
  },
  {
   "cell_type": "markdown",
   "source": [
    "Write a function `is_symmetric` that checks whether a given n x n matrix is symmetric, and provide an example"
   ],
   "metadata": {}
  },
  {
   "cell_type": "code",
   "execution_count": null,
   "source": [
    "def is_symmetric(M):\r\n",
    "    return np.array_equal(M, M.T)\r\n",
    "\r\n",
    "\r\n",
    "A = np.array(np.arange(9)).reshape((3,3))\r\n",
    "B = np.identity(8)\r\n",
    "\r\n",
    "\r\n",
    "print(f\"is A symmetric? > {is_symmetric(A)}\")\r\n",
    "print(f\"is B symmetric? > {is_symmetric(B)}\")"
   ],
   "outputs": [],
   "metadata": {}
  },
  {
   "cell_type": "markdown",
   "source": [
    "## Random\r\n",
    "\r\n",
    "REQUIREMENT: USE THE FUNCTION `get_random_number_generator` as previously used in Lab 2."
   ],
   "metadata": {}
  },
  {
   "cell_type": "markdown",
   "source": [
    "Consider the Bernoulli(0.4) distribution\r\n",
    "\r\n",
    "- Propose at least 2 ways to generate n=1000 samples from it\r\n",
    "- Compute the empirical mean and variance"
   ],
   "metadata": {}
  },
  {
   "cell_type": "code",
   "execution_count": null,
   "source": [
    "rng = get_random_number_generator(0)\r\n",
    "\r\n",
    "results1 = np.array([rng.binomial(1,0.4) for _ in range(1000)])\r\n",
    "results2 = rng.binomial(1, 0.4, 1000)\r\n",
    "\r\n",
    "mean = np.mean(results1)\r\n",
    "variance = np.var(results1)\r\n",
    "\r\n",
    "mean, variance"
   ],
   "outputs": [],
   "metadata": {}
  },
  {
   "cell_type": "markdown",
   "source": [
    "Consider a random matrix of size $50 \\times 100$, filled with i.i.d. standard Gaussian variables, compute\r\n",
    "\r\n",
    "- the absolute value of each entry\r\n",
    "- the sum of each row\r\n",
    "- the sum of each colomn \r\n",
    "- the (euclidean) norm of each row\r\n",
    "- the (euclidean) norm of each column"
   ],
   "metadata": {}
  },
  {
   "cell_type": "markdown",
   "source": [],
   "metadata": {}
  },
  {
   "cell_type": "code",
   "execution_count": null,
   "source": [
    "gaussian_matrix = rng.normal(size = (50, 100))\r\n",
    "gaussian_matrix_absolute = abs(gaussian_matrix)\r\n",
    "gaussian_sum_rows = gaussian_matrix.sum(axis=1)\r\n",
    "gaussian_sum_columns = gaussian_matrix.sum(axis=0)\r\n",
    "gaussian_norm_rows = np.linalg.norm(gaussian_matrix, axis=1)\r\n",
    "gaussian_norm_columns = np.linalg.norm(gaussian_matrix, axis=0)"
   ],
   "outputs": [],
   "metadata": {}
  },
  {
   "cell_type": "markdown",
   "source": [],
   "metadata": {}
  }
 ],
 "metadata": {
  "kernelspec": {
   "name": "python3",
   "display_name": "Python 3.8.11 64-bit ('sdia-python': conda)"
  },
  "language_info": {
   "codemirror_mode": {
    "name": "ipython",
    "version": 3
   },
   "file_extension": ".py",
   "mimetype": "text/x-python",
   "name": "python",
   "nbconvert_exporter": "python",
   "pygments_lexer": "ipython3",
   "version": "3.8.11"
  },
  "toc": {
   "base_numbering": 1,
   "nav_menu": {},
   "number_sections": false,
   "sideBar": true,
   "skip_h1_title": true,
   "title_cell": "Lecture Outline",
   "title_sidebar": "Contents",
   "toc_cell": true,
   "toc_position": {},
   "toc_section_display": true,
   "toc_window_display": true
  },
  "interpreter": {
   "hash": "47a3d19953d0682b2fed03a7de16340ad054781b6349bd7c1cab4a5c5105088a"
  }
 },
 "nbformat": 4,
 "nbformat_minor": 4
}