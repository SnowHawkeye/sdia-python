{
 "cells": [
  {
   "cell_type": "markdown",
   "source": [
    "# Practical session 1 - Some Python basics\r\n",
    "\r\n",
    "Course: [SDIA-Python](https://github.com/guilgautier/sdia-python)\r\n",
    "\r\n",
    "Dates: 09/21/2021-09/22/2021\r\n",
    "\r\n",
    "Instructor: [Guillaume Gautier](https://guilgautier.github.io/)\r\n",
    "\r\n",
    "Students (pair):\r\n",
    "- [Hadrien SALEM]([link](https://github.com/SnowHawkeye))\r\n",
    "- [Emilie SALEM]([link](https://github.com/EmilieSalem))"
   ],
   "metadata": {}
  },
  {
   "cell_type": "code",
   "execution_count": null,
   "source": [
    "%load_ext autoreload\r\n",
    "%autoreload 2"
   ],
   "outputs": [],
   "metadata": {}
  },
  {
   "cell_type": "markdown",
   "source": [
    "## Documentation\r\n",
    "\r\n",
    "To display the documentation associated to a Python function in your notebook (launched in VSCode), you can either\r\n",
    "- run `?functionname` or `help(my_adder)`\r\n",
    "- place your mouse pointer on the function name\r\n",
    "- write the name of the function and start opening the brackets"
   ],
   "metadata": {}
  },
  {
   "cell_type": "markdown",
   "source": [
    "## Zen of Python\r\n"
   ],
   "metadata": {}
  },
  {
   "cell_type": "code",
   "execution_count": null,
   "source": [
    "import this"
   ],
   "outputs": [],
   "metadata": {}
  },
  {
   "cell_type": "markdown",
   "source": [
    "## Reserved keywords\r\n"
   ],
   "metadata": {}
  },
  {
   "cell_type": "code",
   "execution_count": null,
   "source": [
    "import keyword\r\n",
    "print(keyword.kwlist)"
   ],
   "outputs": [],
   "metadata": {}
  },
  {
   "cell_type": "code",
   "execution_count": null,
   "source": [
    "import keyword\r\n",
    "print(keyword.kwlist)"
   ],
   "outputs": [],
   "metadata": {}
  },
  {
   "cell_type": "markdown",
   "source": [
    "## Arithmetic"
   ],
   "metadata": {}
  },
  {
   "cell_type": "markdown",
   "source": [
    "Compute 4 raised to the power 8"
   ],
   "metadata": {}
  },
  {
   "cell_type": "code",
   "execution_count": null,
   "source": [
    "pow(4,8)"
   ],
   "outputs": [],
   "metadata": {}
  },
  {
   "cell_type": "markdown",
   "source": [
    "Compute the quotient and the remainder of the euclidean division of 17 by 3. "
   ],
   "metadata": {}
  },
  {
   "cell_type": "code",
   "execution_count": null,
   "source": [
    "17 // 3"
   ],
   "outputs": [],
   "metadata": {}
  },
  {
   "cell_type": "code",
   "execution_count": null,
   "source": [
    "17 % 3"
   ],
   "outputs": [],
   "metadata": {}
  },
  {
   "cell_type": "markdown",
   "source": [
    "Create two integer variables `a, b` of your choice and swap their content."
   ],
   "metadata": {}
  },
  {
   "cell_type": "code",
   "execution_count": null,
   "source": [
    "a = 1\r\n",
    "b = 2\r\n",
    "a,b = b,a"
   ],
   "outputs": [],
   "metadata": {}
  },
  {
   "cell_type": "code",
   "execution_count": null,
   "source": [
    "print (\"a = \" + str(a))\r\n",
    "print(\"b = \" + str(b))"
   ],
   "outputs": [],
   "metadata": {}
  },
  {
   "cell_type": "markdown",
   "source": [
    "Modify `a` inplace, so that the new value of `a` is twice its previous value."
   ],
   "metadata": {}
  },
  {
   "cell_type": "code",
   "execution_count": null,
   "source": [
    "a = 2*a\r\n",
    "print(a)"
   ],
   "outputs": [],
   "metadata": {}
  },
  {
   "cell_type": "markdown",
   "source": [
    "Define a complex number `z` and print it as\r\n",
    "\r\n",
    "`real=real-part, imag=imaginary-part`"
   ],
   "metadata": {}
  },
  {
   "cell_type": "code",
   "execution_count": null,
   "source": [
    "z = complex(3,1)\r\n",
    "print(\"real = \" + str(z.real))\r\n",
    "print(\"imag = \" + str(z.imag))\r\n",
    "\r\n",
    "z2 = 3 + 1j # different notation"
   ],
   "outputs": [],
   "metadata": {}
  },
  {
   "cell_type": "markdown",
   "source": [
    "## Strings\r\n"
   ],
   "metadata": {}
  },
  {
   "cell_type": "markdown",
   "source": [
    "Propose two ways to define an empty string"
   ],
   "metadata": {}
  },
  {
   "cell_type": "code",
   "execution_count": null,
   "source": [
    "string1 = \"\"\r\n",
    "string2 = str()"
   ],
   "outputs": [],
   "metadata": {}
  },
  {
   "cell_type": "code",
   "execution_count": null,
   "source": [
    "print(\"string1 --->\" + string1 + \"<---\")\r\n",
    "print(\"string2 --->\" + string2 + \"<---\")"
   ],
   "outputs": [],
   "metadata": {}
  },
  {
   "cell_type": "markdown",
   "source": [
    "Define a string made of the 26 letters of the alphabet (lower case), then\r\n",
    "- What is the 12th letter of the alphabet\r\n",
    "- What are the 10 last letters of the alphabet\r\n",
    "- What are the 5th to the 10th letters of the alphabet\r\n",
    "- Create a new string where the 26 letters are converted to upper case."
   ],
   "metadata": {}
  },
  {
   "cell_type": "code",
   "execution_count": null,
   "source": [
    "alphabet = \"abcdefghijklmnopqrstuvwxyz\"\r\n",
    "print(\"12th letter: \" + alphabet[11])\r\n",
    "print(\"Last 10 letters: \" + alphabet[-10:])\r\n",
    "print(\"5th to 10th letter: \" + alphabet[4:10])\r\n",
    "alphabetUpperCase = str.upper(alphabet)\r\n",
    "print(\"Upper case: \" + alphabetUpperCase)"
   ],
   "outputs": [],
   "metadata": {}
  },
  {
   "cell_type": "markdown",
   "source": [
    "Extract the first 4 digits of the number `x = 2341324530045968` (answer is `2341`)."
   ],
   "metadata": {}
  },
  {
   "cell_type": "code",
   "execution_count": null,
   "source": [
    "x = 2341324530045968\r\n",
    "print(str(x)[0:4])\r\n",
    "\r\n",
    "# different method\r\n",
    "print(x // 10**12)"
   ],
   "outputs": [],
   "metadata": {}
  },
  {
   "cell_type": "markdown",
   "source": [
    "## Lists"
   ],
   "metadata": {}
  },
  {
   "cell_type": "markdown",
   "source": [
    "Propose two ways to define an empty list."
   ],
   "metadata": {}
  },
  {
   "cell_type": "code",
   "execution_count": null,
   "source": [
    "list1 = []\r\n",
    "list2 = list()\r\n",
    "\r\n",
    "print(\"list1 --->\" + str(list1) + \"<---\")\r\n",
    "print(\"list2 --->\" + str(list2) + \"<---\")"
   ],
   "outputs": [],
   "metadata": {}
  },
  {
   "cell_type": "markdown",
   "source": [
    "Create the list of consecutive integers from 5 to 11."
   ],
   "metadata": {}
  },
  {
   "cell_type": "code",
   "execution_count": null,
   "source": [
    "integerList = [i for i in range(5,12)]\r\n",
    "print(integerList)"
   ],
   "outputs": [],
   "metadata": {}
  },
  {
   "cell_type": "markdown",
   "source": [
    "Add `100` to this list."
   ],
   "metadata": {}
  },
  {
   "cell_type": "code",
   "execution_count": null,
   "source": [
    "integerList.append(100)\r\n",
    "print(integerList)"
   ],
   "outputs": [],
   "metadata": {}
  },
  {
   "cell_type": "markdown",
   "source": [
    "Given the following list, \r\n",
    "Change the `\"sdia\"` to its reverse (`\"aids\"`)."
   ],
   "metadata": {}
  },
  {
   "cell_type": "code",
   "execution_count": null,
   "source": [
    "x = [10, [3, 4], [5, [100, 200, [\"sdia\"]], 23, 11], 1, 7]\r\n",
    "x[2][1][2][0] = x[2][1][2][0][::-1]\r\n",
    "print(x)"
   ],
   "outputs": [],
   "metadata": {}
  },
  {
   "cell_type": "markdown",
   "source": [
    "Given the following list, \r\n",
    "\r\n",
    "  1. extract the first two items\r\n",
    "  2. extract the last two items\r\n",
    "  3. find the index of the first occurence of `9`\r\n",
    "  4. extract the items located at odd indices\r\n",
    "  5. create a new list which corresponds to the reversed version of the originial list\r\n",
    "  6. create a new list where each item of the original list is raised to the power 3"
   ],
   "metadata": {}
  },
  {
   "cell_type": "code",
   "execution_count": null,
   "source": [
    "x = [3, 7, 5, 3, 8, 6, 8, 8, 0, 7, 3, 9, 3, 4, 2, 7, 0, 9, 5, 0, 0, 9, 0, 9, 3, 1, 4, 0, 5, 5, 5, 8, 9, 9, 5, 5, 4, 9, 5, 6, 2, 8, 5, 2, 4, 9, 2, 2, 3, 1]\r\n",
    "print(\"first two items : \" + str(x[0:2]))\r\n",
    "print(\"last two items : \" + str(x[-2::]))\r\n",
    "print(\"index of tthe first occurence of 9 : \" + str(x.index(9)))\r\n",
    "print(\"items located at odd indices : \" + str(x[1::2]))\r\n",
    "\r\n",
    "reversedList = x.copy()[::-1]\r\n",
    "print(\"reversed version of original list : \" + str(reversedList))\r\n",
    "\r\n",
    "power3 = [pow(y,3) for y in x]\r\n",
    "print(\"list where each item of the original list is raised to the power 3 : \" + str(power3))"
   ],
   "outputs": [],
   "metadata": {}
  },
  {
   "cell_type": "markdown",
   "source": [
    "## Tuples"
   ],
   "metadata": {}
  },
  {
   "cell_type": "markdown",
   "source": [
    "\r\n",
    "Propose two ways to define an empty tuple."
   ],
   "metadata": {}
  },
  {
   "cell_type": "code",
   "execution_count": null,
   "source": [
    "tuple1 = ()\r\n",
    "tuple2 = tuple()\r\n",
    "\r\n",
    "print(\"tuple1 --->\" + str(tuple1) + \"<---\")\r\n",
    "print(\"tuple2 --->\" + str(tuple2) + \"<---\")"
   ],
   "outputs": [],
   "metadata": {}
  },
  {
   "cell_type": "markdown",
   "source": [
    "Given the following tuple\n",
    "- try to replace the second item (`4`) to `8`.\n",
    "- modify the list so that the second element of the first item is raised to the power 5 "
   ],
   "metadata": {}
  },
  {
   "cell_type": "markdown",
   "source": [
    "x = ([1, 2, 3], 4)"
   ],
   "metadata": {}
  },
  {
   "cell_type": "code",
   "execution_count": null,
   "source": [
    "x = ([1, 2, 3], 4)\r\n",
    "try: \r\n",
    "    x[1] = 8\r\n",
    "except TypeError:\r\n",
    "    print(\"An exception was thrown because tuples are immutable.\")"
   ],
   "outputs": [],
   "metadata": {}
  },
  {
   "cell_type": "code",
   "execution_count": null,
   "source": [
    "x = ([1, 2, 3], 4)\r\n",
    "x[0][1] = pow(x[0][1],2)\r\n",
    "print(x)"
   ],
   "outputs": [],
   "metadata": {}
  },
  {
   "cell_type": "markdown",
   "source": [
    "What is the main difference between a list and a tuple?\r\n",
    "\r\n",
    "> Tuples are immutable, whereas list are mutable."
   ],
   "metadata": {}
  },
  {
   "cell_type": "markdown",
   "source": [
    "## Sets"
   ],
   "metadata": {}
  },
  {
   "cell_type": "markdown",
   "source": [
    "Create an empty set"
   ],
   "metadata": {}
  },
  {
   "cell_type": "code",
   "execution_count": null,
   "source": [
    "newSet = {} # ou set(), ou encore set([])\r\n",
    "\r\n",
    "print(\"set --->\" + str(newSet) + \"<---\")"
   ],
   "outputs": [],
   "metadata": {}
  },
  {
   "cell_type": "markdown",
   "source": [
    "Compute the intersection between $A = \\{1, 2, 3\\}$ and $B = \\{2, 4, 5, 6\\}$."
   ],
   "metadata": {}
  },
  {
   "cell_type": "code",
   "execution_count": null,
   "source": [
    "A = {1,2,3}\r\n",
    "B = {2,4,5,6}\r\n",
    "A.intersection(B)"
   ],
   "outputs": [],
   "metadata": {}
  },
  {
   "cell_type": "markdown",
   "source": [
    "From the following set\n",
    "- add the numbers 4, 5, 6\n",
    "- remove the numbers 1, 2, 3\n",
    "- check if the resulting set is contained in `{1, 2, 4, 5, 6, 10}` "
   ],
   "metadata": {}
  },
  {
   "cell_type": "code",
   "execution_count": null,
   "source": [
    "x = {0, 1, 2, 3, 6, 7, 8, 9, 10}\r\n",
    "x.add(4)\r\n",
    "x.add(5)\r\n",
    "x.add(6)\r\n",
    "x.remove(1)\r\n",
    "x.remove(2)\r\n",
    "x.remove(3)\r\n",
    "\r\n",
    "compared = {1, 2, 4, 5, 6, 10}\r\n",
    "\r\n",
    "print(x)\r\n",
    "print(\"x is contained in the set >> \" + str(x.issubset(compared)))"
   ],
   "outputs": [],
   "metadata": {}
  },
  {
   "cell_type": "markdown",
   "source": [
    "## Dictionnaries"
   ],
   "metadata": {}
  },
  {
   "cell_type": "markdown",
   "source": [
    "Propose two ways to define an empty dictionary"
   ],
   "metadata": {}
  },
  {
   "cell_type": "code",
   "execution_count": null,
   "source": [
    "dict1 = {}\r\n",
    "dict2 = dict()\r\n",
    "\r\n",
    "print(\"dict1 --->\" + str(dict1) + \"<---\")\r\n",
    "print(\"dict2 --->\" + str(dict2) + \"<---\")"
   ],
   "outputs": [],
   "metadata": {}
  },
  {
   "cell_type": "markdown",
   "source": [
    "Propose at least 3 ways to define a dictionary with \n",
    "- keys `(\"a\", \"b\", \"c\", \"d\")`\n",
    "- values `(1, 3, 5 , 7)`"
   ],
   "metadata": {}
  },
  {
   "cell_type": "code",
   "execution_count": null,
   "source": [
    "dictDirect = {\r\n",
    "    \"a\" : 1,\r\n",
    "    \"b\" : 3,\r\n",
    "    \"c\" : 5,\r\n",
    "    \"d\" : 7,\r\n",
    "}\r\n",
    "\r\n",
    "keys = [\"a\", \"b\", \"c\", \"d\"]\r\n",
    "values = [1, 3, 5 , 7]\r\n",
    "dictFromLists = dict(zip(keys, values))\r\n",
    "\r\n",
    "dictAdd = dict()\r\n",
    "dictAdd[\"a\"] = 1\r\n",
    "dictAdd[\"b\"] = 3\r\n",
    "dictAdd[\"c\"] = 5\r\n",
    "dictAdd[\"d\"] = 7\r\n",
    "\r\n",
    "print(\"dictDirect --->\" + str(dictDirect))\r\n",
    "print(\"dictFromLists --->\" + str(dictFromLists))\r\n",
    "print(\"dictAdd --->\" + str(dictAdd))"
   ],
   "outputs": [],
   "metadata": {}
  },
  {
   "cell_type": "markdown",
   "source": [
    "Given the following dictionary, use indexing to get to the word `\"sdia\"`"
   ],
   "metadata": {}
  },
  {
   "cell_type": "code",
   "execution_count": null,
   "source": [
    "d = {\r\n",
    "    \"outer\": [\r\n",
    "        1,\r\n",
    "        2,\r\n",
    "        3,\r\n",
    "        {\"inner\": [\"this\", \"is\", \"inception\", {\"inner_inner\": [1, 2, 3, \"sdia\"]}]},\r\n",
    "    ]\r\n",
    "}\r\n",
    "\r\n",
    "print(d[\"outer\"][3][\"inner\"][3][\"inner_inner\"][3])"
   ],
   "outputs": [],
   "metadata": {}
  },
  {
   "cell_type": "markdown",
   "source": [
    "From the following dictionary,\r\n",
    "- Create the list of keys\r\n",
    "- Create the list of values\r\n",
    "- Check if the key `\"abc\"` is present, if not, return `123`.\r\n",
    "- Merge the initial dictionary with `{\"e\": -1, 4: True}`"
   ],
   "metadata": {}
  },
  {
   "cell_type": "code",
   "execution_count": null,
   "source": [
    "d1 = dict(zip([(0, 1), \"e\", 1, None], [\"abc\", 4, None, 1 + 2j]))\r\n",
    "keys = d1.keys()\r\n",
    "values = d1.values()\r\n",
    "print(keys)\r\n",
    "print(values)"
   ],
   "outputs": [],
   "metadata": {}
  },
  {
   "cell_type": "markdown",
   "source": [
    "## Conditions"
   ],
   "metadata": {}
  },
  {
   "cell_type": "markdown",
   "source": [
    "Propose two ways to construct the list of odd values ranging from 0 to 30"
   ],
   "metadata": {}
  },
  {
   "cell_type": "markdown",
   "source": [
    "From the following list, create another list which contains\n",
    "- `\"fiz\"` if the item is a multiple of 5,\n",
    "- `\"buz\"` if the item is a multiple of 7,\n",
    "- `\"fizbuz\"` if the item is a both a multiple of 5 and 7,\n",
    "- the index of the item otherwise."
   ],
   "metadata": {}
  },
  {
   "cell_type": "code",
   "execution_count": null,
   "source": [
    "x = [2, 1, 3, 31, 35, 20, 70, 132, 144, 49]\r\n",
    "\r\n",
    "new_list = []\r\n",
    "for i in range(0,len(x)) :\r\n",
    "    if (x[i]%5 == 0 and x[i]%7 == 0) : new_list.append(\"fizbuz\")\r\n",
    "    elif x[i]%5 == 0 : new_list.append(\"fiz\")\r\n",
    "    elif x[i]%7 == 0 : new_list.append(\"buz\")\r\n",
    "    else : new_list.append(i)\r\n",
    "\r\n",
    "print(new_list)"
   ],
   "outputs": [],
   "metadata": {}
  },
  {
   "cell_type": "markdown",
   "source": [
    "Given a string variable `course`, construct a `if/elif/else` statement that prints:\n",
    "- `\"That is very useful!\"` if `course` is `\"maths\"` (any kind of capitalization)\n",
    "- `\"That is very useful!\"` if `course` is `\"python\"` (any kind of capitalization)\n",
    "- `\"How nice!\"` if `course` is `\"meditation\"` (any kind of capitalization)\n",
    "- `\"You're not at Hogwarts\"` if `course` is `\"magic\"` (any kind of capitalization)\n",
    "- otherwise `\"What is this COURSE?\"` if `course` is anything else."
   ],
   "metadata": {}
  },
  {
   "cell_type": "code",
   "execution_count": null,
   "source": [
    "course = \"python\"\r\n",
    "\r\n",
    "if(course.lower() == \"maths\" or course.lower() == \"python\") : print(\"That is very useful!\")\r\n",
    "elif(course.lower() == \"meditation\") : print(\"How nice!\")\r\n",
    "elif(course.lower() == \"magic\") : print(\"You're not at Hogwarts\")\r\n",
    "else : print(\"What is this COURSE?\")"
   ],
   "outputs": [],
   "metadata": {}
  },
  {
   "cell_type": "markdown",
   "source": [
    "Given the following variables, create and print the string\n",
    "\n",
    "``quantity`` ``fruit``(s) cost(s) $``price``\n",
    "\n",
    "such that\n",
    "- there is an `\"s\"` at `\"cost\"` when there is more only one fruit,\n",
    "- there is an `\"s\"` at `\"fruit\"` when there is more that one fruit,\n",
    "- the price is displayed as ...,xxx,xxx.yy where yy corresponds rounded cents value"
   ],
   "metadata": {}
  },
  {
   "cell_type": "code",
   "execution_count": null,
   "source": [
    "quantity = 3\r\n",
    "fruit = \"lemon\"\r\n",
    "price = 1.8912392e4\r\n",
    "\r\n",
    "pluralNoun = \"s\" if quantity > 1 else \"\"\r\n",
    "pluralVerb = \"s\" if quantity == 1 else \"\"\r\n",
    "formattedPrice = f\"{price:,}\"\r\n",
    "\r\n",
    "print(str(quantity) + \" \" + fruit + pluralNoun + \" cost\" + pluralVerb + \" $\" + formattedPrice)"
   ],
   "outputs": [],
   "metadata": {}
  },
  {
   "cell_type": "markdown",
   "source": [
    "## Functions\n",
    "\n",
    "- Create your function in `src/sdia_python/lab1/functions.py` files\n",
    "- Import them using `from sdia_python.lab1.functions import MYFUNCTION`"
   ],
   "metadata": {}
  },
  {
   "cell_type": "code",
   "execution_count": null,
   "source": [
    "from sdia_python.lab1.functions import *\r\n",
    "printMyString()"
   ],
   "outputs": [],
   "metadata": {}
  },
  {
   "cell_type": "markdown",
   "source": [
    "Define the function `is_unique(x)` which takes a list of integers `x` as input and returns `True` if the there is no duplicate items otherwise return `False`."
   ],
   "metadata": {}
  },
  {
   "cell_type": "code",
   "execution_count": null,
   "source": [
    "from sdia_python.lab1.functions import *\r\n",
    "x1 = [\"3\", \"3\", \"4\"]\r\n",
    "x2 = [\"3\", \"4\"]\r\n",
    "\r\n",
    "print(is_unique(x1))\r\n",
    "print(is_unique(x2))"
   ],
   "outputs": [],
   "metadata": {}
  },
  {
   "cell_type": "markdown",
   "source": [
    "Define a function `triangle_shape(height)`, that returns \n",
    "- `\"\"` if `height=0`, \n",
    "- otherwise it returns a string that forms a triangle with height prescribed by `height`.\n",
    "\n",
    "**Examples**\n",
    "\n",
    "height=1\n",
    "```\n",
    "x\n",
    "```\n",
    "\n",
    "height=2\n",
    "```\n",
    " x \n",
    "xxx\n",
    "```\n",
    "\n",
    "height=3\n",
    "```\n",
    "  x  \n",
    " xxx \n",
    "xxxxx\n",
    "```\n",
    "\n",
    "height=4\n",
    "```\n",
    "   x   \n",
    "  xxx  \n",
    " xxxxx \n",
    "xxxxxxx\n",
    "```\n",
    "\n",
    "height=5\n",
    "```\n",
    "    x    \n",
    "   xxx   \n",
    "  xxxxx  \n",
    " xxxxxxx \n",
    "xxxxxxxxx\n",
    "```\n",
    "\n",
    "height=6\n",
    "```\n",
    "     x     \n",
    "    xxx    \n",
    "   xxxxx   \n",
    "  xxxxxxx  \n",
    " xxxxxxxxx \n",
    "xxxxxxxxxxx\n",
    "```"
   ],
   "metadata": {}
  },
  {
   "cell_type": "code",
   "execution_count": null,
   "source": [
    "from sdia_python.lab1.functions import *\r\n",
    "print(\"height = 0\\n\" + triangle_shape(0)) \r\n",
    "print(\"height = 1\\n\" + triangle_shape(1)) \r\n",
    "print(\"height = 2\\n\" + triangle_shape(2)) \r\n",
    "print(\"height = 3\\n\" + triangle_shape(3)) "
   ],
   "outputs": [],
   "metadata": {}
  }
 ],
 "metadata": {
  "orig_nbformat": 4,
  "language_info": {
   "name": "python",
   "version": "3.8.11",
   "mimetype": "text/x-python",
   "codemirror_mode": {
    "name": "ipython",
    "version": 3
   },
   "pygments_lexer": "ipython3",
   "nbconvert_exporter": "python",
   "file_extension": ".py"
  },
  "kernelspec": {
   "name": "python3",
   "display_name": "Python 3.8.11 64-bit ('sdia-python': conda)"
  },
  "interpreter": {
   "hash": "47a3d19953d0682b2fed03a7de16340ad054781b6349bd7c1cab4a5c5105088a"
  }
 },
 "nbformat": 4,
 "nbformat_minor": 2
}
